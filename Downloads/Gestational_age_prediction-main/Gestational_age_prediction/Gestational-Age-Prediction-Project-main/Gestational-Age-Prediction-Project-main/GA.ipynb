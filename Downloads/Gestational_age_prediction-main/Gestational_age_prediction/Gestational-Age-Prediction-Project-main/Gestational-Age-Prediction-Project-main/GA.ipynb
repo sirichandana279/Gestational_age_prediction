{
 "cells": [
  {
   "cell_type": "markdown",
   "id": "762fd55f",
   "metadata": {},
   "source": [
    "# Gestational Age"
   ]
  },
  {
   "cell_type": "code",
   "execution_count": null,
   "id": "4565005e",
   "metadata": {},
   "outputs": [],
   "source": [
    "# Import libraries \n",
    "import numpy as np \n",
    "import pandas as pd \n",
    "# Import label encoder \n",
    "from sklearn.preprocessing import LabelEncoder\n",
    "from sklearn.model_selection import train_test_split # Import train_test_split function\n",
    "from sklearn import metrics #Import scikit-learn metrics module for accuracy calculation\n",
    "from sklearn.metrics import accuracy_score \n",
    "from sklearn.metrics import precision_score\n",
    "from sklearn.metrics import classification_report\n",
    "\n",
    "import warnings\n",
    "warnings.filterwarnings('ignore')"
   ]
  },
  {
   "cell_type": "markdown",
   "id": "424fc88c",
   "metadata": {},
   "source": [
    "# Import dataset "
   ]
  },
  {
   "cell_type": "code",
   "execution_count": null,
   "id": "e90cf3ae",
   "metadata": {},
   "outputs": [],
   "source": [
    "df = pd.read_csv('Ges_days.csv')  "
   ]
  },
  {
   "cell_type": "code",
   "execution_count": null,
   "id": "a0c9892b",
   "metadata": {},
   "outputs": [
    {
     "data": {
      "text/plain": [
       "(346, 9)"
      ]
     },
     "execution_count": 3,
     "metadata": {},
     "output_type": "execute_result"
    }
   ],
   "source": [
    "df.shape"
   ]
  },
  {
   "cell_type": "code",
   "execution_count": null,
   "id": "11f7206c",
   "metadata": {},
   "outputs": [
    {
     "data": {
      "text/html": [
       "<div>\n",
       "<style scoped>\n",
       "    .dataframe tbody tr th:only-of-type {\n",
       "        vertical-align: middle;\n",
       "    }\n",
       "\n",
       "    .dataframe tbody tr th {\n",
       "        vertical-align: top;\n",
       "    }\n",
       "\n",
       "    .dataframe thead th {\n",
       "        text-align: right;\n",
       "    }\n",
       "</style>\n",
       "<table border=\"1\" class=\"dataframe\">\n",
       "  <thead>\n",
       "    <tr style=\"text-align: right;\">\n",
       "      <th></th>\n",
       "      <th>Age</th>\n",
       "      <th>Hem</th>\n",
       "      <th>BPD</th>\n",
       "      <th>FFL</th>\n",
       "      <th>HC</th>\n",
       "      <th>AC</th>\n",
       "      <th>EFW</th>\n",
       "      <th>LMP</th>\n",
       "      <th>Ges_days</th>\n",
       "    </tr>\n",
       "  </thead>\n",
       "  <tbody>\n",
       "    <tr>\n",
       "      <th>0</th>\n",
       "      <td>32</td>\n",
       "      <td>24.8</td>\n",
       "      <td>52.0</td>\n",
       "      <td>37.0</td>\n",
       "      <td>24.0</td>\n",
       "      <td>169.8</td>\n",
       "      <td>452</td>\n",
       "      <td>21</td>\n",
       "      <td>153</td>\n",
       "    </tr>\n",
       "    <tr>\n",
       "      <th>1</th>\n",
       "      <td>33</td>\n",
       "      <td>27.1</td>\n",
       "      <td>54.5</td>\n",
       "      <td>33.7</td>\n",
       "      <td>22.4</td>\n",
       "      <td>160.5</td>\n",
       "      <td>389</td>\n",
       "      <td>21</td>\n",
       "      <td>152</td>\n",
       "    </tr>\n",
       "    <tr>\n",
       "      <th>2</th>\n",
       "      <td>46</td>\n",
       "      <td>26.8</td>\n",
       "      <td>54.9</td>\n",
       "      <td>35.7</td>\n",
       "      <td>21.8</td>\n",
       "      <td>167.1</td>\n",
       "      <td>432</td>\n",
       "      <td>22</td>\n",
       "      <td>158</td>\n",
       "    </tr>\n",
       "    <tr>\n",
       "      <th>3</th>\n",
       "      <td>38</td>\n",
       "      <td>24.8</td>\n",
       "      <td>52.1</td>\n",
       "      <td>37.1</td>\n",
       "      <td>23.4</td>\n",
       "      <td>157.9</td>\n",
       "      <td>420</td>\n",
       "      <td>22</td>\n",
       "      <td>156</td>\n",
       "    </tr>\n",
       "    <tr>\n",
       "      <th>4</th>\n",
       "      <td>31</td>\n",
       "      <td>25.2</td>\n",
       "      <td>52.4</td>\n",
       "      <td>37.2</td>\n",
       "      <td>21.7</td>\n",
       "      <td>157.7</td>\n",
       "      <td>410</td>\n",
       "      <td>22</td>\n",
       "      <td>155</td>\n",
       "    </tr>\n",
       "  </tbody>\n",
       "</table>\n",
       "</div>"
      ],
      "text/plain": [
       "   Age   Hem   BPD   FFL    HC     AC  EFW  LMP  Ges_days\n",
       "0   32  24.8  52.0  37.0  24.0  169.8  452   21       153\n",
       "1   33  27.1  54.5  33.7  22.4  160.5  389   21       152\n",
       "2   46  26.8  54.9  35.7  21.8  167.1  432   22       158\n",
       "3   38  24.8  52.1  37.1  23.4  157.9  420   22       156\n",
       "4   31  25.2  52.4  37.2  21.7  157.7  410   22       155"
      ]
     },
     "execution_count": 4,
     "metadata": {},
     "output_type": "execute_result"
    }
   ],
   "source": [
    "df.head()"
   ]
  },
  {
   "cell_type": "code",
   "execution_count": null,
   "id": "7ca50b32",
   "metadata": {},
   "outputs": [
    {
     "name": "stdout",
     "output_type": "stream",
     "text": [
      "<class 'pandas.core.frame.DataFrame'>\n",
      "RangeIndex: 346 entries, 0 to 345\n",
      "Data columns (total 9 columns):\n",
      " #   Column    Non-Null Count  Dtype  \n",
      "---  ------    --------------  -----  \n",
      " 0   Age       346 non-null    int64  \n",
      " 1   Hem       346 non-null    float64\n",
      " 2   BPD       346 non-null    float64\n",
      " 3   FFL       346 non-null    float64\n",
      " 4   HC        346 non-null    float64\n",
      " 5   AC        346 non-null    float64\n",
      " 6   EFW       346 non-null    int64  \n",
      " 7   LMP       346 non-null    int64  \n",
      " 8   Ges_days  346 non-null    int64  \n",
      "dtypes: float64(5), int64(4)\n",
      "memory usage: 24.5 KB\n"
     ]
    }
   ],
   "source": [
    "df.info()"
   ]
  },
  {
   "cell_type": "code",
   "execution_count": null,
   "id": "975fb377",
   "metadata": {
    "scrolled": true
   },
   "outputs": [
    {
     "data": {
      "text/plain": [
       "Age         0\n",
       "Hem         0\n",
       "BPD         0\n",
       "FFL         0\n",
       "HC          0\n",
       "AC          0\n",
       "EFW         0\n",
       "LMP         0\n",
       "Ges_days    0\n",
       "dtype: int64"
      ]
     },
     "execution_count": 6,
     "metadata": {},
     "output_type": "execute_result"
    }
   ],
   "source": [
    "df.isnull().sum()"
   ]
  },
  {
   "cell_type": "code",
   "execution_count": null,
   "id": "c961f1cf",
   "metadata": {},
   "outputs": [
    {
     "data": {
      "text/html": [
       "<div>\n",
       "<style scoped>\n",
       "    .dataframe tbody tr th:only-of-type {\n",
       "        vertical-align: middle;\n",
       "    }\n",
       "\n",
       "    .dataframe tbody tr th {\n",
       "        vertical-align: top;\n",
       "    }\n",
       "\n",
       "    .dataframe thead th {\n",
       "        text-align: right;\n",
       "    }\n",
       "</style>\n",
       "<table border=\"1\" class=\"dataframe\">\n",
       "  <thead>\n",
       "    <tr style=\"text-align: right;\">\n",
       "      <th></th>\n",
       "      <th>Age</th>\n",
       "      <th>Hem</th>\n",
       "      <th>BPD</th>\n",
       "      <th>FFL</th>\n",
       "      <th>HC</th>\n",
       "      <th>AC</th>\n",
       "      <th>EFW</th>\n",
       "      <th>LMP</th>\n",
       "      <th>Ges_days</th>\n",
       "    </tr>\n",
       "  </thead>\n",
       "  <tbody>\n",
       "    <tr>\n",
       "      <th>0</th>\n",
       "      <td>32</td>\n",
       "      <td>24.8</td>\n",
       "      <td>52.0</td>\n",
       "      <td>37.0</td>\n",
       "      <td>24.0</td>\n",
       "      <td>169.8</td>\n",
       "      <td>452</td>\n",
       "      <td>21</td>\n",
       "      <td>153</td>\n",
       "    </tr>\n",
       "    <tr>\n",
       "      <th>1</th>\n",
       "      <td>33</td>\n",
       "      <td>27.1</td>\n",
       "      <td>54.5</td>\n",
       "      <td>33.7</td>\n",
       "      <td>22.4</td>\n",
       "      <td>160.5</td>\n",
       "      <td>389</td>\n",
       "      <td>21</td>\n",
       "      <td>152</td>\n",
       "    </tr>\n",
       "    <tr>\n",
       "      <th>2</th>\n",
       "      <td>46</td>\n",
       "      <td>26.8</td>\n",
       "      <td>54.9</td>\n",
       "      <td>35.7</td>\n",
       "      <td>21.8</td>\n",
       "      <td>167.1</td>\n",
       "      <td>432</td>\n",
       "      <td>22</td>\n",
       "      <td>158</td>\n",
       "    </tr>\n",
       "    <tr>\n",
       "      <th>3</th>\n",
       "      <td>38</td>\n",
       "      <td>24.8</td>\n",
       "      <td>52.1</td>\n",
       "      <td>37.1</td>\n",
       "      <td>23.4</td>\n",
       "      <td>157.9</td>\n",
       "      <td>420</td>\n",
       "      <td>22</td>\n",
       "      <td>156</td>\n",
       "    </tr>\n",
       "    <tr>\n",
       "      <th>4</th>\n",
       "      <td>31</td>\n",
       "      <td>25.2</td>\n",
       "      <td>52.4</td>\n",
       "      <td>37.2</td>\n",
       "      <td>21.7</td>\n",
       "      <td>157.7</td>\n",
       "      <td>410</td>\n",
       "      <td>22</td>\n",
       "      <td>155</td>\n",
       "    </tr>\n",
       "    <tr>\n",
       "      <th>...</th>\n",
       "      <td>...</td>\n",
       "      <td>...</td>\n",
       "      <td>...</td>\n",
       "      <td>...</td>\n",
       "      <td>...</td>\n",
       "      <td>...</td>\n",
       "      <td>...</td>\n",
       "      <td>...</td>\n",
       "      <td>...</td>\n",
       "    </tr>\n",
       "    <tr>\n",
       "      <th>341</th>\n",
       "      <td>31</td>\n",
       "      <td>25.5</td>\n",
       "      <td>56.3</td>\n",
       "      <td>35.2</td>\n",
       "      <td>23.3</td>\n",
       "      <td>170.7</td>\n",
       "      <td>445</td>\n",
       "      <td>21</td>\n",
       "      <td>153</td>\n",
       "    </tr>\n",
       "    <tr>\n",
       "      <th>342</th>\n",
       "      <td>35</td>\n",
       "      <td>22.0</td>\n",
       "      <td>49.1</td>\n",
       "      <td>34.1</td>\n",
       "      <td>22.4</td>\n",
       "      <td>164.3</td>\n",
       "      <td>396</td>\n",
       "      <td>21</td>\n",
       "      <td>153</td>\n",
       "    </tr>\n",
       "    <tr>\n",
       "      <th>343</th>\n",
       "      <td>37</td>\n",
       "      <td>26.8</td>\n",
       "      <td>53.9</td>\n",
       "      <td>37.4</td>\n",
       "      <td>21.6</td>\n",
       "      <td>164.4</td>\n",
       "      <td>442</td>\n",
       "      <td>22</td>\n",
       "      <td>155</td>\n",
       "    </tr>\n",
       "    <tr>\n",
       "      <th>344</th>\n",
       "      <td>35</td>\n",
       "      <td>23.5</td>\n",
       "      <td>50.0</td>\n",
       "      <td>35.1</td>\n",
       "      <td>22.3</td>\n",
       "      <td>167.5</td>\n",
       "      <td>419</td>\n",
       "      <td>21</td>\n",
       "      <td>152</td>\n",
       "    </tr>\n",
       "    <tr>\n",
       "      <th>345</th>\n",
       "      <td>30</td>\n",
       "      <td>26.5</td>\n",
       "      <td>54.1</td>\n",
       "      <td>35.5</td>\n",
       "      <td>22.9</td>\n",
       "      <td>170.7</td>\n",
       "      <td>441</td>\n",
       "      <td>21</td>\n",
       "      <td>153</td>\n",
       "    </tr>\n",
       "  </tbody>\n",
       "</table>\n",
       "<p>346 rows × 9 columns</p>\n",
       "</div>"
      ],
      "text/plain": [
       "     Age   Hem   BPD   FFL    HC     AC  EFW  LMP  Ges_days\n",
       "0     32  24.8  52.0  37.0  24.0  169.8  452   21       153\n",
       "1     33  27.1  54.5  33.7  22.4  160.5  389   21       152\n",
       "2     46  26.8  54.9  35.7  21.8  167.1  432   22       158\n",
       "3     38  24.8  52.1  37.1  23.4  157.9  420   22       156\n",
       "4     31  25.2  52.4  37.2  21.7  157.7  410   22       155\n",
       "..   ...   ...   ...   ...   ...    ...  ...  ...       ...\n",
       "341   31  25.5  56.3  35.2  23.3  170.7  445   21       153\n",
       "342   35  22.0  49.1  34.1  22.4  164.3  396   21       153\n",
       "343   37  26.8  53.9  37.4  21.6  164.4  442   22       155\n",
       "344   35  23.5  50.0  35.1  22.3  167.5  419   21       152\n",
       "345   30  26.5  54.1  35.5  22.9  170.7  441   21       153\n",
       "\n",
       "[346 rows x 9 columns]"
      ]
     },
     "execution_count": 7,
     "metadata": {},
     "output_type": "execute_result"
    }
   ],
   "source": [
    "df"
   ]
  },
  {
   "cell_type": "code",
   "execution_count": null,
   "id": "5fd9b5ad",
   "metadata": {},
   "outputs": [
    {
     "data": {
      "text/html": [
       "<div>\n",
       "<style scoped>\n",
       "    .dataframe tbody tr th:only-of-type {\n",
       "        vertical-align: middle;\n",
       "    }\n",
       "\n",
       "    .dataframe tbody tr th {\n",
       "        vertical-align: top;\n",
       "    }\n",
       "\n",
       "    .dataframe thead th {\n",
       "        text-align: right;\n",
       "    }\n",
       "</style>\n",
       "<table border=\"1\" class=\"dataframe\">\n",
       "  <thead>\n",
       "    <tr style=\"text-align: right;\">\n",
       "      <th></th>\n",
       "      <th>Age</th>\n",
       "      <th>Hem</th>\n",
       "      <th>BPD</th>\n",
       "      <th>FFL</th>\n",
       "      <th>HC</th>\n",
       "      <th>AC</th>\n",
       "      <th>EFW</th>\n",
       "      <th>LMP</th>\n",
       "    </tr>\n",
       "  </thead>\n",
       "  <tbody>\n",
       "    <tr>\n",
       "      <th>0</th>\n",
       "      <td>32</td>\n",
       "      <td>24.8</td>\n",
       "      <td>52.0</td>\n",
       "      <td>37.0</td>\n",
       "      <td>24.0</td>\n",
       "      <td>169.8</td>\n",
       "      <td>452</td>\n",
       "      <td>21</td>\n",
       "    </tr>\n",
       "    <tr>\n",
       "      <th>1</th>\n",
       "      <td>33</td>\n",
       "      <td>27.1</td>\n",
       "      <td>54.5</td>\n",
       "      <td>33.7</td>\n",
       "      <td>22.4</td>\n",
       "      <td>160.5</td>\n",
       "      <td>389</td>\n",
       "      <td>21</td>\n",
       "    </tr>\n",
       "    <tr>\n",
       "      <th>2</th>\n",
       "      <td>46</td>\n",
       "      <td>26.8</td>\n",
       "      <td>54.9</td>\n",
       "      <td>35.7</td>\n",
       "      <td>21.8</td>\n",
       "      <td>167.1</td>\n",
       "      <td>432</td>\n",
       "      <td>22</td>\n",
       "    </tr>\n",
       "    <tr>\n",
       "      <th>3</th>\n",
       "      <td>38</td>\n",
       "      <td>24.8</td>\n",
       "      <td>52.1</td>\n",
       "      <td>37.1</td>\n",
       "      <td>23.4</td>\n",
       "      <td>157.9</td>\n",
       "      <td>420</td>\n",
       "      <td>22</td>\n",
       "    </tr>\n",
       "    <tr>\n",
       "      <th>4</th>\n",
       "      <td>31</td>\n",
       "      <td>25.2</td>\n",
       "      <td>52.4</td>\n",
       "      <td>37.2</td>\n",
       "      <td>21.7</td>\n",
       "      <td>157.7</td>\n",
       "      <td>410</td>\n",
       "      <td>22</td>\n",
       "    </tr>\n",
       "    <tr>\n",
       "      <th>...</th>\n",
       "      <td>...</td>\n",
       "      <td>...</td>\n",
       "      <td>...</td>\n",
       "      <td>...</td>\n",
       "      <td>...</td>\n",
       "      <td>...</td>\n",
       "      <td>...</td>\n",
       "      <td>...</td>\n",
       "    </tr>\n",
       "    <tr>\n",
       "      <th>341</th>\n",
       "      <td>31</td>\n",
       "      <td>25.5</td>\n",
       "      <td>56.3</td>\n",
       "      <td>35.2</td>\n",
       "      <td>23.3</td>\n",
       "      <td>170.7</td>\n",
       "      <td>445</td>\n",
       "      <td>21</td>\n",
       "    </tr>\n",
       "    <tr>\n",
       "      <th>342</th>\n",
       "      <td>35</td>\n",
       "      <td>22.0</td>\n",
       "      <td>49.1</td>\n",
       "      <td>34.1</td>\n",
       "      <td>22.4</td>\n",
       "      <td>164.3</td>\n",
       "      <td>396</td>\n",
       "      <td>21</td>\n",
       "    </tr>\n",
       "    <tr>\n",
       "      <th>343</th>\n",
       "      <td>37</td>\n",
       "      <td>26.8</td>\n",
       "      <td>53.9</td>\n",
       "      <td>37.4</td>\n",
       "      <td>21.6</td>\n",
       "      <td>164.4</td>\n",
       "      <td>442</td>\n",
       "      <td>22</td>\n",
       "    </tr>\n",
       "    <tr>\n",
       "      <th>344</th>\n",
       "      <td>35</td>\n",
       "      <td>23.5</td>\n",
       "      <td>50.0</td>\n",
       "      <td>35.1</td>\n",
       "      <td>22.3</td>\n",
       "      <td>167.5</td>\n",
       "      <td>419</td>\n",
       "      <td>21</td>\n",
       "    </tr>\n",
       "    <tr>\n",
       "      <th>345</th>\n",
       "      <td>30</td>\n",
       "      <td>26.5</td>\n",
       "      <td>54.1</td>\n",
       "      <td>35.5</td>\n",
       "      <td>22.9</td>\n",
       "      <td>170.7</td>\n",
       "      <td>441</td>\n",
       "      <td>21</td>\n",
       "    </tr>\n",
       "  </tbody>\n",
       "</table>\n",
       "<p>346 rows × 8 columns</p>\n",
       "</div>"
      ],
      "text/plain": [
       "     Age   Hem   BPD   FFL    HC     AC  EFW  LMP\n",
       "0     32  24.8  52.0  37.0  24.0  169.8  452   21\n",
       "1     33  27.1  54.5  33.7  22.4  160.5  389   21\n",
       "2     46  26.8  54.9  35.7  21.8  167.1  432   22\n",
       "3     38  24.8  52.1  37.1  23.4  157.9  420   22\n",
       "4     31  25.2  52.4  37.2  21.7  157.7  410   22\n",
       "..   ...   ...   ...   ...   ...    ...  ...  ...\n",
       "341   31  25.5  56.3  35.2  23.3  170.7  445   21\n",
       "342   35  22.0  49.1  34.1  22.4  164.3  396   21\n",
       "343   37  26.8  53.9  37.4  21.6  164.4  442   22\n",
       "344   35  23.5  50.0  35.1  22.3  167.5  419   21\n",
       "345   30  26.5  54.1  35.5  22.9  170.7  441   21\n",
       "\n",
       "[346 rows x 8 columns]"
      ]
     },
     "execution_count": 8,
     "metadata": {},
     "output_type": "execute_result"
    }
   ],
   "source": [
    "X = df.drop(['Ges_days'],axis=1)\n",
    "Y = df['Ges_days']\n",
    "\n",
    "X"
   ]
  },
  {
   "cell_type": "code",
   "execution_count": null,
   "id": "536feed5",
   "metadata": {},
   "outputs": [
    {
     "data": {
      "text/plain": [
       "0      153\n",
       "1      152\n",
       "2      158\n",
       "3      156\n",
       "4      155\n",
       "      ... \n",
       "341    153\n",
       "342    153\n",
       "343    155\n",
       "344    152\n",
       "345    153\n",
       "Name: Ges_days, Length: 346, dtype: int64"
      ]
     },
     "execution_count": 9,
     "metadata": {},
     "output_type": "execute_result"
    }
   ],
   "source": [
    "Y"
   ]
  },
  {
   "cell_type": "markdown",
   "id": "d2339abf",
   "metadata": {},
   "source": [
    "# 80% training and 20% test"
   ]
  },
  {
   "cell_type": "code",
   "execution_count": null,
   "id": "29d7676c",
   "metadata": {},
   "outputs": [],
   "source": [
    "X_train, X_test, y_train, y_test = train_test_split(X,Y, test_size=0.2,random_state=15) # 80% training and 20% test"
   ]
  },
  {
   "cell_type": "code",
   "execution_count": null,
   "id": "816efc29",
   "metadata": {},
   "outputs": [],
   "source": [
    "from sklearn.tree import DecisionTreeRegressor\n",
    "from sklearn.linear_model import LinearRegression\n",
    "from sklearn.metrics import classification_report\n",
    "from sklearn.metrics import r2_score"
   ]
  },
  {
   "cell_type": "markdown",
   "id": "1ece0b6e",
   "metadata": {},
   "source": [
    "# Decision Tree"
   ]
  },
  {
   "cell_type": "code",
   "execution_count": null,
   "id": "a215ba01",
   "metadata": {},
   "outputs": [
    {
     "data": {
      "text/html": [
       "<style>#sk-container-id-1 {color: black;background-color: white;}#sk-container-id-1 pre{padding: 0;}#sk-container-id-1 div.sk-toggleable {background-color: white;}#sk-container-id-1 label.sk-toggleable__label {cursor: pointer;display: block;width: 100%;margin-bottom: 0;padding: 0.3em;box-sizing: border-box;text-align: center;}#sk-container-id-1 label.sk-toggleable__label-arrow:before {content: \"▸\";float: left;margin-right: 0.25em;color: #696969;}#sk-container-id-1 label.sk-toggleable__label-arrow:hover:before {color: black;}#sk-container-id-1 div.sk-estimator:hover label.sk-toggleable__label-arrow:before {color: black;}#sk-container-id-1 div.sk-toggleable__content {max-height: 0;max-width: 0;overflow: hidden;text-align: left;background-color: #f0f8ff;}#sk-container-id-1 div.sk-toggleable__content pre {margin: 0.2em;color: black;border-radius: 0.25em;background-color: #f0f8ff;}#sk-container-id-1 input.sk-toggleable__control:checked~div.sk-toggleable__content {max-height: 200px;max-width: 100%;overflow: auto;}#sk-container-id-1 input.sk-toggleable__control:checked~label.sk-toggleable__label-arrow:before {content: \"▾\";}#sk-container-id-1 div.sk-estimator input.sk-toggleable__control:checked~label.sk-toggleable__label {background-color: #d4ebff;}#sk-container-id-1 div.sk-label input.sk-toggleable__control:checked~label.sk-toggleable__label {background-color: #d4ebff;}#sk-container-id-1 input.sk-hidden--visually {border: 0;clip: rect(1px 1px 1px 1px);clip: rect(1px, 1px, 1px, 1px);height: 1px;margin: -1px;overflow: hidden;padding: 0;position: absolute;width: 1px;}#sk-container-id-1 div.sk-estimator {font-family: monospace;background-color: #f0f8ff;border: 1px dotted black;border-radius: 0.25em;box-sizing: border-box;margin-bottom: 0.5em;}#sk-container-id-1 div.sk-estimator:hover {background-color: #d4ebff;}#sk-container-id-1 div.sk-parallel-item::after {content: \"\";width: 100%;border-bottom: 1px solid gray;flex-grow: 1;}#sk-container-id-1 div.sk-label:hover label.sk-toggleable__label {background-color: #d4ebff;}#sk-container-id-1 div.sk-serial::before {content: \"\";position: absolute;border-left: 1px solid gray;box-sizing: border-box;top: 0;bottom: 0;left: 50%;z-index: 0;}#sk-container-id-1 div.sk-serial {display: flex;flex-direction: column;align-items: center;background-color: white;padding-right: 0.2em;padding-left: 0.2em;position: relative;}#sk-container-id-1 div.sk-item {position: relative;z-index: 1;}#sk-container-id-1 div.sk-parallel {display: flex;align-items: stretch;justify-content: center;background-color: white;position: relative;}#sk-container-id-1 div.sk-item::before, #sk-container-id-1 div.sk-parallel-item::before {content: \"\";position: absolute;border-left: 1px solid gray;box-sizing: border-box;top: 0;bottom: 0;left: 50%;z-index: -1;}#sk-container-id-1 div.sk-parallel-item {display: flex;flex-direction: column;z-index: 1;position: relative;background-color: white;}#sk-container-id-1 div.sk-parallel-item:first-child::after {align-self: flex-end;width: 50%;}#sk-container-id-1 div.sk-parallel-item:last-child::after {align-self: flex-start;width: 50%;}#sk-container-id-1 div.sk-parallel-item:only-child::after {width: 0;}#sk-container-id-1 div.sk-dashed-wrapped {border: 1px dashed gray;margin: 0 0.4em 0.5em 0.4em;box-sizing: border-box;padding-bottom: 0.4em;background-color: white;}#sk-container-id-1 div.sk-label label {font-family: monospace;font-weight: bold;display: inline-block;line-height: 1.2em;}#sk-container-id-1 div.sk-label-container {text-align: center;}#sk-container-id-1 div.sk-container {/* jupyter's `normalize.less` sets `[hidden] { display: none; }` but bootstrap.min.css set `[hidden] { display: none !important; }` so we also need the `!important` here to be able to override the default hidden behavior on the sphinx rendered scikit-learn.org. See: https://github.com/scikit-learn/scikit-learn/issues/21755 */display: inline-block !important;position: relative;}#sk-container-id-1 div.sk-text-repr-fallback {display: none;}</style><div id=\"sk-container-id-1\" class=\"sk-top-container\"><div class=\"sk-text-repr-fallback\"><pre>DecisionTreeRegressor(random_state=0)</pre><b>In a Jupyter environment, please rerun this cell to show the HTML representation or trust the notebook. <br />On GitHub, the HTML representation is unable to render, please try loading this page with nbviewer.org.</b></div><div class=\"sk-container\" hidden><div class=\"sk-item\"><div class=\"sk-estimator sk-toggleable\"><input class=\"sk-toggleable__control sk-hidden--visually\" id=\"sk-estimator-id-1\" type=\"checkbox\" checked><label for=\"sk-estimator-id-1\" class=\"sk-toggleable__label sk-toggleable__label-arrow\">DecisionTreeRegressor</label><div class=\"sk-toggleable__content\"><pre>DecisionTreeRegressor(random_state=0)</pre></div></div></div></div></div>"
      ],
      "text/plain": [
       "DecisionTreeRegressor(random_state=0)"
      ]
     },
     "execution_count": 12,
     "metadata": {},
     "output_type": "execute_result"
    }
   ],
   "source": [
    "clf = DecisionTreeRegressor(random_state = 0)\n",
    "clf.fit(X_train, y_train)"
   ]
  },
  {
   "cell_type": "code",
   "execution_count": null,
   "id": "b4b7facc",
   "metadata": {
    "scrolled": true
   },
   "outputs": [
    {
     "data": {
      "text/plain": [
       "79.1329193664507"
      ]
     },
     "execution_count": 13,
     "metadata": {},
     "output_type": "execute_result"
    }
   ],
   "source": [
    "y_pred = clf.predict(X_test)\n",
    "dt= r2_score(y_test, y_pred)\n",
    "dt*100"
   ]
  },
  {
   "cell_type": "markdown",
   "id": "11ec3f27",
   "metadata": {},
   "source": [
    "# Linear Regression"
   ]
  },
  {
   "cell_type": "code",
   "execution_count": null,
   "id": "dc990d27",
   "metadata": {
    "scrolled": true
   },
   "outputs": [
    {
     "data": {
      "text/html": [
       "<style>#sk-container-id-2 {color: black;background-color: white;}#sk-container-id-2 pre{padding: 0;}#sk-container-id-2 div.sk-toggleable {background-color: white;}#sk-container-id-2 label.sk-toggleable__label {cursor: pointer;display: block;width: 100%;margin-bottom: 0;padding: 0.3em;box-sizing: border-box;text-align: center;}#sk-container-id-2 label.sk-toggleable__label-arrow:before {content: \"▸\";float: left;margin-right: 0.25em;color: #696969;}#sk-container-id-2 label.sk-toggleable__label-arrow:hover:before {color: black;}#sk-container-id-2 div.sk-estimator:hover label.sk-toggleable__label-arrow:before {color: black;}#sk-container-id-2 div.sk-toggleable__content {max-height: 0;max-width: 0;overflow: hidden;text-align: left;background-color: #f0f8ff;}#sk-container-id-2 div.sk-toggleable__content pre {margin: 0.2em;color: black;border-radius: 0.25em;background-color: #f0f8ff;}#sk-container-id-2 input.sk-toggleable__control:checked~div.sk-toggleable__content {max-height: 200px;max-width: 100%;overflow: auto;}#sk-container-id-2 input.sk-toggleable__control:checked~label.sk-toggleable__label-arrow:before {content: \"▾\";}#sk-container-id-2 div.sk-estimator input.sk-toggleable__control:checked~label.sk-toggleable__label {background-color: #d4ebff;}#sk-container-id-2 div.sk-label input.sk-toggleable__control:checked~label.sk-toggleable__label {background-color: #d4ebff;}#sk-container-id-2 input.sk-hidden--visually {border: 0;clip: rect(1px 1px 1px 1px);clip: rect(1px, 1px, 1px, 1px);height: 1px;margin: -1px;overflow: hidden;padding: 0;position: absolute;width: 1px;}#sk-container-id-2 div.sk-estimator {font-family: monospace;background-color: #f0f8ff;border: 1px dotted black;border-radius: 0.25em;box-sizing: border-box;margin-bottom: 0.5em;}#sk-container-id-2 div.sk-estimator:hover {background-color: #d4ebff;}#sk-container-id-2 div.sk-parallel-item::after {content: \"\";width: 100%;border-bottom: 1px solid gray;flex-grow: 1;}#sk-container-id-2 div.sk-label:hover label.sk-toggleable__label {background-color: #d4ebff;}#sk-container-id-2 div.sk-serial::before {content: \"\";position: absolute;border-left: 1px solid gray;box-sizing: border-box;top: 0;bottom: 0;left: 50%;z-index: 0;}#sk-container-id-2 div.sk-serial {display: flex;flex-direction: column;align-items: center;background-color: white;padding-right: 0.2em;padding-left: 0.2em;position: relative;}#sk-container-id-2 div.sk-item {position: relative;z-index: 1;}#sk-container-id-2 div.sk-parallel {display: flex;align-items: stretch;justify-content: center;background-color: white;position: relative;}#sk-container-id-2 div.sk-item::before, #sk-container-id-2 div.sk-parallel-item::before {content: \"\";position: absolute;border-left: 1px solid gray;box-sizing: border-box;top: 0;bottom: 0;left: 50%;z-index: -1;}#sk-container-id-2 div.sk-parallel-item {display: flex;flex-direction: column;z-index: 1;position: relative;background-color: white;}#sk-container-id-2 div.sk-parallel-item:first-child::after {align-self: flex-end;width: 50%;}#sk-container-id-2 div.sk-parallel-item:last-child::after {align-self: flex-start;width: 50%;}#sk-container-id-2 div.sk-parallel-item:only-child::after {width: 0;}#sk-container-id-2 div.sk-dashed-wrapped {border: 1px dashed gray;margin: 0 0.4em 0.5em 0.4em;box-sizing: border-box;padding-bottom: 0.4em;background-color: white;}#sk-container-id-2 div.sk-label label {font-family: monospace;font-weight: bold;display: inline-block;line-height: 1.2em;}#sk-container-id-2 div.sk-label-container {text-align: center;}#sk-container-id-2 div.sk-container {/* jupyter's `normalize.less` sets `[hidden] { display: none; }` but bootstrap.min.css set `[hidden] { display: none !important; }` so we also need the `!important` here to be able to override the default hidden behavior on the sphinx rendered scikit-learn.org. See: https://github.com/scikit-learn/scikit-learn/issues/21755 */display: inline-block !important;position: relative;}#sk-container-id-2 div.sk-text-repr-fallback {display: none;}</style><div id=\"sk-container-id-2\" class=\"sk-top-container\"><div class=\"sk-text-repr-fallback\"><pre>LinearRegression()</pre><b>In a Jupyter environment, please rerun this cell to show the HTML representation or trust the notebook. <br />On GitHub, the HTML representation is unable to render, please try loading this page with nbviewer.org.</b></div><div class=\"sk-container\" hidden><div class=\"sk-item\"><div class=\"sk-estimator sk-toggleable\"><input class=\"sk-toggleable__control sk-hidden--visually\" id=\"sk-estimator-id-2\" type=\"checkbox\" checked><label for=\"sk-estimator-id-2\" class=\"sk-toggleable__label sk-toggleable__label-arrow\">LinearRegression</label><div class=\"sk-toggleable__content\"><pre>LinearRegression()</pre></div></div></div></div></div>"
      ],
      "text/plain": [
       "LinearRegression()"
      ]
     },
     "execution_count": 14,
     "metadata": {},
     "output_type": "execute_result"
    }
   ],
   "source": [
    "reg =  LinearRegression()\n",
    "reg.fit(X_train, y_train)"
   ]
  },
  {
   "cell_type": "code",
   "execution_count": null,
   "id": "0c6f7222",
   "metadata": {},
   "outputs": [
    {
     "data": {
      "text/plain": [
       "85.74376477988334"
      ]
     },
     "execution_count": 15,
     "metadata": {},
     "output_type": "execute_result"
    }
   ],
   "source": [
    "y_pred = reg.predict(X_test)\n",
    "lr = r2_score(y_test, y_pred)\n",
    "lr*100"
   ]
  },
  {
   "cell_type": "code",
   "execution_count": null,
   "id": "208063aa",
   "metadata": {},
   "outputs": [
    {
     "data": {
      "image/png": "[encoded data removed]",
      "text/plain": [
       "<Figure size 640x480 with 1 Axes>"
      ]
     },
     "metadata": {},
     "output_type": "display_data"
    }
   ],
   "source": [
    "import matplotlib.pyplot as plt\n",
    "\n",
    "\n",
    "# calculate the residuals\n",
    "residuals = y_test - y_pred\n",
    "\n",
    "# create a scatter plot of the predicted values vs. the residuals\n",
    "plt.scatter(y_pred, residuals)\n",
    "plt.title(\"Residual plot\")\n",
    "plt.xlabel(\"Predicted values\")\n",
    "plt.ylabel(\"Residuals\")\n",
    "plt.axhline(y=0, color='r', linestyle='-')\n",
    "plt.show()\n"
   ]
  },
  {
   "cell_type": "code",
   "execution_count": null,
   "id": "b2e32dce",
   "metadata": {},
   "outputs": [
    {
     "name": "stdout",
     "output_type": "stream",
     "text": [
      "Mean Absolute Error: 1.3226498184613311\n"
     ]
    }
   ],
   "source": [
    "from sklearn.metrics import mean_absolute_error\n",
    "mae = mean_absolute_error(y_test, y_pred)\n",
    "\n",
    "# print MAE\n",
    "print('Mean Absolute Error:', mae)"
   ]
  },
  {
   "cell_type": "markdown",
   "id": "6027379e",
   "metadata": {},
   "source": [
    "# Random Forest reg"
   ]
  },
  {
   "cell_type": "code",
   "execution_count": null,
   "id": "233c4c67",
   "metadata": {},
   "outputs": [
    {
     "data": {
      "text/html": [
       "<style>#sk-container-id-3 {color: black;background-color: white;}#sk-container-id-3 pre{padding: 0;}#sk-container-id-3 div.sk-toggleable {background-color: white;}#sk-container-id-3 label.sk-toggleable__label {cursor: pointer;display: block;width: 100%;margin-bottom: 0;padding: 0.3em;box-sizing: border-box;text-align: center;}#sk-container-id-3 label.sk-toggleable__label-arrow:before {content: \"▸\";float: left;margin-right: 0.25em;color: #696969;}#sk-container-id-3 label.sk-toggleable__label-arrow:hover:before {color: black;}#sk-container-id-3 div.sk-estimator:hover label.sk-toggleable__label-arrow:before {color: black;}#sk-container-id-3 div.sk-toggleable__content {max-height: 0;max-width: 0;overflow: hidden;text-align: left;background-color: #f0f8ff;}#sk-container-id-3 div.sk-toggleable__content pre {margin: 0.2em;color: black;border-radius: 0.25em;background-color: #f0f8ff;}#sk-container-id-3 input.sk-toggleable__control:checked~div.sk-toggleable__content {max-height: 200px;max-width: 100%;overflow: auto;}#sk-container-id-3 input.sk-toggleable__control:checked~label.sk-toggleable__label-arrow:before {content: \"▾\";}#sk-container-id-3 div.sk-estimator input.sk-toggleable__control:checked~label.sk-toggleable__label {background-color: #d4ebff;}#sk-container-id-3 div.sk-label input.sk-toggleable__control:checked~label.sk-toggleable__label {background-color: #d4ebff;}#sk-container-id-3 input.sk-hidden--visually {border: 0;clip: rect(1px 1px 1px 1px);clip: rect(1px, 1px, 1px, 1px);height: 1px;margin: -1px;overflow: hidden;padding: 0;position: absolute;width: 1px;}#sk-container-id-3 div.sk-estimator {font-family: monospace;background-color: #f0f8ff;border: 1px dotted black;border-radius: 0.25em;box-sizing: border-box;margin-bottom: 0.5em;}#sk-container-id-3 div.sk-estimator:hover {background-color: #d4ebff;}#sk-container-id-3 div.sk-parallel-item::after {content: \"\";width: 100%;border-bottom: 1px solid gray;flex-grow: 1;}#sk-container-id-3 div.sk-label:hover label.sk-toggleable__label {background-color: #d4ebff;}#sk-container-id-3 div.sk-serial::before {content: \"\";position: absolute;border-left: 1px solid gray;box-sizing: border-box;top: 0;bottom: 0;left: 50%;z-index: 0;}#sk-container-id-3 div.sk-serial {display: flex;flex-direction: column;align-items: center;background-color: white;padding-right: 0.2em;padding-left: 0.2em;position: relative;}#sk-container-id-3 div.sk-item {position: relative;z-index: 1;}#sk-container-id-3 div.sk-parallel {display: flex;align-items: stretch;justify-content: center;background-color: white;position: relative;}#sk-container-id-3 div.sk-item::before, #sk-container-id-3 div.sk-parallel-item::before {content: \"\";position: absolute;border-left: 1px solid gray;box-sizing: border-box;top: 0;bottom: 0;left: 50%;z-index: -1;}#sk-container-id-3 div.sk-parallel-item {display: flex;flex-direction: column;z-index: 1;position: relative;background-color: white;}#sk-container-id-3 div.sk-parallel-item:first-child::after {align-self: flex-end;width: 50%;}#sk-container-id-3 div.sk-parallel-item:last-child::after {align-self: flex-start;width: 50%;}#sk-container-id-3 div.sk-parallel-item:only-child::after {width: 0;}#sk-container-id-3 div.sk-dashed-wrapped {border: 1px dashed gray;margin: 0 0.4em 0.5em 0.4em;box-sizing: border-box;padding-bottom: 0.4em;background-color: white;}#sk-container-id-3 div.sk-label label {font-family: monospace;font-weight: bold;display: inline-block;line-height: 1.2em;}#sk-container-id-3 div.sk-label-container {text-align: center;}#sk-container-id-3 div.sk-container {/* jupyter's `normalize.less` sets `[hidden] { display: none; }` but bootstrap.min.css set `[hidden] { display: none !important; }` so we also need the `!important` here to be able to override the default hidden behavior on the sphinx rendered scikit-learn.org. See: https://github.com/scikit-learn/scikit-learn/issues/21755 */display: inline-block !important;position: relative;}#sk-container-id-3 div.sk-text-repr-fallback {display: none;}</style><div id=\"sk-container-id-3\" class=\"sk-top-container\"><div class=\"sk-text-repr-fallback\"><pre>RandomForestRegressor(n_estimators=10, random_state=0)</pre><b>In a Jupyter environment, please rerun this cell to show the HTML representation or trust the notebook. <br />On GitHub, the HTML representation is unable to render, please try loading this page with nbviewer.org.</b></div><div class=\"sk-container\" hidden><div class=\"sk-item\"><div class=\"sk-estimator sk-toggleable\"><input class=\"sk-toggleable__control sk-hidden--visually\" id=\"sk-estimator-id-3\" type=\"checkbox\" checked><label for=\"sk-estimator-id-3\" class=\"sk-toggleable__label sk-toggleable__label-arrow\">RandomForestRegressor</label><div class=\"sk-toggleable__content\"><pre>RandomForestRegressor(n_estimators=10, random_state=0)</pre></div></div></div></div></div>"
      ],
      "text/plain": [
       "RandomForestRegressor(n_estimators=10, random_state=0)"
      ]
     },
     "execution_count": 18,
     "metadata": {},
     "output_type": "execute_result"
    }
   ],
   "source": [
    "from sklearn.ensemble import RandomForestRegressor\n",
    "regressor = RandomForestRegressor(n_estimators = 10,random_state=0)\n",
    "regressor.fit(X_train, y_train)\n"
   ]
  },
  {
   "cell_type": "code",
   "execution_count": null,
   "id": "63ddc861",
   "metadata": {},
   "outputs": [
    {
     "data": {
      "text/plain": [
       "87.85220932325414"
      ]
     },
     "execution_count": 19,
     "metadata": {},
     "output_type": "execute_result"
    }
   ],
   "source": [
    "y_pred = regressor.predict(X_test)\n",
    "rf= r2_score(y_test, y_pred)\n",
    "\n",
    "# Compute the percentage of variance explained by the model\n",
    "rf* 100"
   ]
  },
  {
   "cell_type": "markdown",
   "id": "1b3005ad",
   "metadata": {},
   "source": [
    "# SVR"
   ]
  },
  {
   "cell_type": "code",
   "execution_count": null,
   "id": "54d38f4f",
   "metadata": {},
   "outputs": [
    {
     "data": {
      "text/html": [
       "<style>#sk-container-id-4 {color: black;background-color: white;}#sk-container-id-4 pre{padding: 0;}#sk-container-id-4 div.sk-toggleable {background-color: white;}#sk-container-id-4 label.sk-toggleable__label {cursor: pointer;display: block;width: 100%;margin-bottom: 0;padding: 0.3em;box-sizing: border-box;text-align: center;}#sk-container-id-4 label.sk-toggleable__label-arrow:before {content: \"▸\";float: left;margin-right: 0.25em;color: #696969;}#sk-container-id-4 label.sk-toggleable__label-arrow:hover:before {color: black;}#sk-container-id-4 div.sk-estimator:hover label.sk-toggleable__label-arrow:before {color: black;}#sk-container-id-4 div.sk-toggleable__content {max-height: 0;max-width: 0;overflow: hidden;text-align: left;background-color: #f0f8ff;}#sk-container-id-4 div.sk-toggleable__content pre {margin: 0.2em;color: black;border-radius: 0.25em;background-color: #f0f8ff;}#sk-container-id-4 input.sk-toggleable__control:checked~div.sk-toggleable__content {max-height: 200px;max-width: 100%;overflow: auto;}#sk-container-id-4 input.sk-toggleable__control:checked~label.sk-toggleable__label-arrow:before {content: \"▾\";}#sk-container-id-4 div.sk-estimator input.sk-toggleable__control:checked~label.sk-toggleable__label {background-color: #d4ebff;}#sk-container-id-4 div.sk-label input.sk-toggleable__control:checked~label.sk-toggleable__label {background-color: #d4ebff;}#sk-container-id-4 input.sk-hidden--visually {border: 0;clip: rect(1px 1px 1px 1px);clip: rect(1px, 1px, 1px, 1px);height: 1px;margin: -1px;overflow: hidden;padding: 0;position: absolute;width: 1px;}#sk-container-id-4 div.sk-estimator {font-family: monospace;background-color: #f0f8ff;border: 1px dotted black;border-radius: 0.25em;box-sizing: border-box;margin-bottom: 0.5em;}#sk-container-id-4 div.sk-estimator:hover {background-color: #d4ebff;}#sk-container-id-4 div.sk-parallel-item::after {content: \"\";width: 100%;border-bottom: 1px solid gray;flex-grow: 1;}#sk-container-id-4 div.sk-label:hover label.sk-toggleable__label {background-color: #d4ebff;}#sk-container-id-4 div.sk-serial::before {content: \"\";position: absolute;border-left: 1px solid gray;box-sizing: border-box;top: 0;bottom: 0;left: 50%;z-index: 0;}#sk-container-id-4 div.sk-serial {display: flex;flex-direction: column;align-items: center;background-color: white;padding-right: 0.2em;padding-left: 0.2em;position: relative;}#sk-container-id-4 div.sk-item {position: relative;z-index: 1;}#sk-container-id-4 div.sk-parallel {display: flex;align-items: stretch;justify-content: center;background-color: white;position: relative;}#sk-container-id-4 div.sk-item::before, #sk-container-id-4 div.sk-parallel-item::before {content: \"\";position: absolute;border-left: 1px solid gray;box-sizing: border-box;top: 0;bottom: 0;left: 50%;z-index: -1;}#sk-container-id-4 div.sk-parallel-item {display: flex;flex-direction: column;z-index: 1;position: relative;background-color: white;}#sk-container-id-4 div.sk-parallel-item:first-child::after {align-self: flex-end;width: 50%;}#sk-container-id-4 div.sk-parallel-item:last-child::after {align-self: flex-start;width: 50%;}#sk-container-id-4 div.sk-parallel-item:only-child::after {width: 0;}#sk-container-id-4 div.sk-dashed-wrapped {border: 1px dashed gray;margin: 0 0.4em 0.5em 0.4em;box-sizing: border-box;padding-bottom: 0.4em;background-color: white;}#sk-container-id-4 div.sk-label label {font-family: monospace;font-weight: bold;display: inline-block;line-height: 1.2em;}#sk-container-id-4 div.sk-label-container {text-align: center;}#sk-container-id-4 div.sk-container {/* jupyter's `normalize.less` sets `[hidden] { display: none; }` but bootstrap.min.css set `[hidden] { display: none !important; }` so we also need the `!important` here to be able to override the default hidden behavior on the sphinx rendered scikit-learn.org. See: https://github.com/scikit-learn/scikit-learn/issues/21755 */display: inline-block !important;position: relative;}#sk-container-id-4 div.sk-text-repr-fallback {display: none;}</style><div id=\"sk-container-id-4\" class=\"sk-top-container\"><div class=\"sk-text-repr-fallback\"><pre>SVR()</pre><b>In a Jupyter environment, please rerun this cell to show the HTML representation or trust the notebook. <br />On GitHub, the HTML representation is unable to render, please try loading this page with nbviewer.org.</b></div><div class=\"sk-container\" hidden><div class=\"sk-item\"><div class=\"sk-estimator sk-toggleable\"><input class=\"sk-toggleable__control sk-hidden--visually\" id=\"sk-estimator-id-4\" type=\"checkbox\" checked><label for=\"sk-estimator-id-4\" class=\"sk-toggleable__label sk-toggleable__label-arrow\">SVR</label><div class=\"sk-toggleable__content\"><pre>SVR()</pre></div></div></div></div></div>"
      ],
      "text/plain": [
       "SVR()"
      ]
     },
     "execution_count": 20,
     "metadata": {},
     "output_type": "execute_result"
    }
   ],
   "source": [
    "from sklearn.svm import SVR\n",
    "re = SVR(kernel = 'rbf')\n",
    "re.fit(X_train, y_train)\n"
   ]
  },
  {
   "cell_type": "code",
   "execution_count": null,
   "id": "6e6d936b",
   "metadata": {},
   "outputs": [
    {
     "data": {
      "text/plain": [
       "39.34387872381683"
      ]
     },
     "execution_count": 21,
     "metadata": {},
     "output_type": "execute_result"
    }
   ],
   "source": [
    "y_pred = re.predict(X_test)\n",
    "svr= r2_score(y_test, y_pred)\n",
    "\n",
    "# Compute the percentage of variance explained by the model\n",
    "svr* 100"
   ]
  },
  {
   "cell_type": "code",
   "execution_count": null,
   "id": "977ca902",
   "metadata": {
    "scrolled": false
   },
   "outputs": [
    {
     "data": {
      "image/png": "[encoded data removed]",
      "text/plain": [
       "<Figure size 640x480 with 1 Axes>"
      ]
     },
     "metadata": {},
     "output_type": "display_data"
    }
   ],
   "source": [
    "import seaborn as sns\n",
    "import matplotlib.pyplot as plt\n",
    "objects = ('LR','DT','RF','SVR')\n",
    "y_pos = np.arange(len(objects))\n",
    "performance = [lr*100,dt*100,rf*100,svr*100]\n",
    "\n",
    "plt.bar(y_pos, performance, align='center', alpha=0.5)\n",
    "plt.xticks(y_pos, objects)\n",
    "plt.ylabel('Accuracy')\n",
    "plt.title('80training - 20 testing')\n",
    "\n",
    "plt.show()"
   ]
  },
  {
   "cell_type": "markdown",
   "id": "6e0de5bc",
   "metadata": {},
   "source": [
    "# 70% training and 30% test"
   ]
  },
  {
   "cell_type": "code",
   "execution_count": null,
   "id": "326a60b2",
   "metadata": {},
   "outputs": [],
   "source": [
    "X_train, X_test, y_train, y_test = train_test_split(X,Y, test_size=0.3,random_state=15) # 70% training and 30% test"
   ]
  },
  {
   "cell_type": "markdown",
   "id": "85fae51f",
   "metadata": {},
   "source": [
    "# Decision Tree"
   ]
  },
  {
   "cell_type": "code",
   "execution_count": null,
   "id": "6b19ec53",
   "metadata": {},
   "outputs": [
    {
     "data": {
      "text/plain": [
       "78.3220645806371"
      ]
     },
     "execution_count": 24,
     "metadata": {},
     "output_type": "execute_result"
    }
   ],
   "source": [
    "clf = DecisionTreeRegressor(random_state = 0)\n",
    "clf.fit(X_train, y_train)\n",
    "y_pred = clf.predict(X_test)\n",
    "dt= r2_score(y_test, y_pred)\n",
    "dt*100"
   ]
  },
  {
   "cell_type": "markdown",
   "id": "6d7ab9cf",
   "metadata": {},
   "source": [
    "# Linear Regression"
   ]
  },
  {
   "cell_type": "code",
   "execution_count": null,
   "id": "ba1a76c9",
   "metadata": {},
   "outputs": [
    {
     "data": {
      "text/plain": [
       "88.9566746515293"
      ]
     },
     "execution_count": 25,
     "metadata": {},
     "output_type": "execute_result"
    }
   ],
   "source": [
    "reg =  LinearRegression()\n",
    "reg.fit(X_train, y_train)\n",
    "y_pred = reg.predict(X_test)\n",
    "lr = r2_score(y_test, y_pred)\n",
    "lr*100"
   ]
  },
  {
   "cell_type": "markdown",
   "id": "f32b9870",
   "metadata": {},
   "source": [
    "# Random Forest"
   ]
  },
  {
   "cell_type": "code",
   "execution_count": null,
   "id": "b39002ce",
   "metadata": {},
   "outputs": [
    {
     "data": {
      "text/plain": [
       "90.17909858041939"
      ]
     },
     "execution_count": 26,
     "metadata": {},
     "output_type": "execute_result"
    }
   ],
   "source": [
    "from sklearn.ensemble import RandomForestRegressor\n",
    "regressor = RandomForestRegressor(n_estimators = 10,random_state=0)\n",
    "regressor.fit(X_train, y_train)\n",
    "y_pred = regressor.predict(X_test)\n",
    "rf= r2_score(y_test, y_pred)\n",
    "\n",
    "# Compute the percentage of variance explained by the model\n",
    "rf* 100"
   ]
  },
  {
   "cell_type": "code",
   "execution_count": null,
   "id": "7c989560",
   "metadata": {},
   "outputs": [
    {
     "data": {
      "text/html": [
       "<div>\n",
       "<style scoped>\n",
       "    .dataframe tbody tr th:only-of-type {\n",
       "        vertical-align: middle;\n",
       "    }\n",
       "\n",
       "    .dataframe tbody tr th {\n",
       "        vertical-align: top;\n",
       "    }\n",
       "\n",
       "    .dataframe thead th {\n",
       "        text-align: right;\n",
       "    }\n",
       "</style>\n",
       "<table border=\"1\" class=\"dataframe\">\n",
       "  <thead>\n",
       "    <tr style=\"text-align: right;\">\n",
       "      <th></th>\n",
       "      <th>Age</th>\n",
       "      <th>Hem</th>\n",
       "      <th>BPD</th>\n",
       "      <th>FFL</th>\n",
       "      <th>HC</th>\n",
       "      <th>AC</th>\n",
       "      <th>EFW</th>\n",
       "      <th>LMP</th>\n",
       "    </tr>\n",
       "  </thead>\n",
       "  <tbody>\n",
       "    <tr>\n",
       "      <th>235</th>\n",
       "      <td>36</td>\n",
       "      <td>27.5</td>\n",
       "      <td>54.7</td>\n",
       "      <td>37.7</td>\n",
       "      <td>23.7</td>\n",
       "      <td>182.3</td>\n",
       "      <td>518</td>\n",
       "      <td>21</td>\n",
       "    </tr>\n",
       "    <tr>\n",
       "      <th>142</th>\n",
       "      <td>25</td>\n",
       "      <td>25.2</td>\n",
       "      <td>54.5</td>\n",
       "      <td>37.1</td>\n",
       "      <td>22.8</td>\n",
       "      <td>162.3</td>\n",
       "      <td>432</td>\n",
       "      <td>22</td>\n",
       "    </tr>\n",
       "    <tr>\n",
       "      <th>304</th>\n",
       "      <td>26</td>\n",
       "      <td>25.0</td>\n",
       "      <td>51.8</td>\n",
       "      <td>34.8</td>\n",
       "      <td>21.4</td>\n",
       "      <td>153.0</td>\n",
       "      <td>365</td>\n",
       "      <td>21</td>\n",
       "    </tr>\n",
       "    <tr>\n",
       "      <th>292</th>\n",
       "      <td>35</td>\n",
       "      <td>25.0</td>\n",
       "      <td>50.6</td>\n",
       "      <td>35.7</td>\n",
       "      <td>22.2</td>\n",
       "      <td>154.7</td>\n",
       "      <td>387</td>\n",
       "      <td>21</td>\n",
       "    </tr>\n",
       "    <tr>\n",
       "      <th>331</th>\n",
       "      <td>40</td>\n",
       "      <td>26.2</td>\n",
       "      <td>51.9</td>\n",
       "      <td>38.4</td>\n",
       "      <td>21.6</td>\n",
       "      <td>169.8</td>\n",
       "      <td>468</td>\n",
       "      <td>22</td>\n",
       "    </tr>\n",
       "    <tr>\n",
       "      <th>...</th>\n",
       "      <td>...</td>\n",
       "      <td>...</td>\n",
       "      <td>...</td>\n",
       "      <td>...</td>\n",
       "      <td>...</td>\n",
       "      <td>...</td>\n",
       "      <td>...</td>\n",
       "      <td>...</td>\n",
       "    </tr>\n",
       "    <tr>\n",
       "      <th>7</th>\n",
       "      <td>40</td>\n",
       "      <td>21.3</td>\n",
       "      <td>49.4</td>\n",
       "      <td>34.3</td>\n",
       "      <td>20.7</td>\n",
       "      <td>154.4</td>\n",
       "      <td>370</td>\n",
       "      <td>21</td>\n",
       "    </tr>\n",
       "    <tr>\n",
       "      <th>9</th>\n",
       "      <td>32</td>\n",
       "      <td>23.2</td>\n",
       "      <td>49.5</td>\n",
       "      <td>35.4</td>\n",
       "      <td>22.8</td>\n",
       "      <td>156.4</td>\n",
       "      <td>386</td>\n",
       "      <td>21</td>\n",
       "    </tr>\n",
       "    <tr>\n",
       "      <th>152</th>\n",
       "      <td>32</td>\n",
       "      <td>24.1</td>\n",
       "      <td>51.4</td>\n",
       "      <td>35.5</td>\n",
       "      <td>21.2</td>\n",
       "      <td>161.0</td>\n",
       "      <td>400</td>\n",
       "      <td>21</td>\n",
       "    </tr>\n",
       "    <tr>\n",
       "      <th>106</th>\n",
       "      <td>25</td>\n",
       "      <td>31.9</td>\n",
       "      <td>32.0</td>\n",
       "      <td>45.4</td>\n",
       "      <td>27.4</td>\n",
       "      <td>188.4</td>\n",
       "      <td>674</td>\n",
       "      <td>24</td>\n",
       "    </tr>\n",
       "    <tr>\n",
       "      <th>126</th>\n",
       "      <td>31</td>\n",
       "      <td>24.1</td>\n",
       "      <td>54.0</td>\n",
       "      <td>37.5</td>\n",
       "      <td>22.0</td>\n",
       "      <td>170.4</td>\n",
       "      <td>467</td>\n",
       "      <td>22</td>\n",
       "    </tr>\n",
       "  </tbody>\n",
       "</table>\n",
       "<p>104 rows × 8 columns</p>\n",
       "</div>"
      ],
      "text/plain": [
       "     Age   Hem   BPD   FFL    HC     AC  EFW  LMP\n",
       "235   36  27.5  54.7  37.7  23.7  182.3  518   21\n",
       "142   25  25.2  54.5  37.1  22.8  162.3  432   22\n",
       "304   26  25.0  51.8  34.8  21.4  153.0  365   21\n",
       "292   35  25.0  50.6  35.7  22.2  154.7  387   21\n",
       "331   40  26.2  51.9  38.4  21.6  169.8  468   22\n",
       "..   ...   ...   ...   ...   ...    ...  ...  ...\n",
       "7     40  21.3  49.4  34.3  20.7  154.4  370   21\n",
       "9     32  23.2  49.5  35.4  22.8  156.4  386   21\n",
       "152   32  24.1  51.4  35.5  21.2  161.0  400   21\n",
       "106   25  31.9  32.0  45.4  27.4  188.4  674   24\n",
       "126   31  24.1  54.0  37.5  22.0  170.4  467   22\n",
       "\n",
       "[104 rows x 8 columns]"
      ]
     },
     "execution_count": 27,
     "metadata": {},
     "output_type": "execute_result"
    }
   ],
   "source": [
    "X_test"
   ]
  },
  {
   "cell_type": "code",
   "execution_count": null,
   "id": "7147b199",
   "metadata": {},
   "outputs": [
    {
     "data": {
      "text/html": [
       "<div>\n",
       "<style scoped>\n",
       "    .dataframe tbody tr th:only-of-type {\n",
       "        vertical-align: middle;\n",
       "    }\n",
       "\n",
       "    .dataframe tbody tr th {\n",
       "        vertical-align: top;\n",
       "    }\n",
       "\n",
       "    .dataframe thead th {\n",
       "        text-align: right;\n",
       "    }\n",
       "</style>\n",
       "<table border=\"1\" class=\"dataframe\">\n",
       "  <thead>\n",
       "    <tr style=\"text-align: right;\">\n",
       "      <th></th>\n",
       "      <th>Age</th>\n",
       "      <th>Hem</th>\n",
       "      <th>BPD</th>\n",
       "      <th>FFL</th>\n",
       "      <th>HC</th>\n",
       "      <th>AC</th>\n",
       "      <th>EFW</th>\n",
       "      <th>LMP</th>\n",
       "    </tr>\n",
       "  </thead>\n",
       "  <tbody>\n",
       "    <tr>\n",
       "      <th>0</th>\n",
       "      <td>40</td>\n",
       "      <td>21.3</td>\n",
       "      <td>49.4</td>\n",
       "      <td>34.3</td>\n",
       "      <td>20.7</td>\n",
       "      <td>154.4</td>\n",
       "      <td>370</td>\n",
       "      <td>21</td>\n",
       "    </tr>\n",
       "  </tbody>\n",
       "</table>\n",
       "</div>"
      ],
      "text/plain": [
       "  Age   Hem   BPD   FFL    HC     AC  EFW LMP\n",
       "0  40  21.3  49.4  34.3  20.7  154.4  370  21"
      ]
     },
     "execution_count": 28,
     "metadata": {},
     "output_type": "execute_result"
    }
   ],
   "source": [
    "import pandas as pd\n",
    "\n",
    "data = [{'Age': '40', 'Hem': '21.3', 'BPD': '49.4','FFL':'34.3','HC':'20.7','AC':'154.4','EFW':'370','LMP':'21'}]\n",
    "X_test = pd.DataFrame(data)\n",
    "X_test"
   ]
  },
  {
   "cell_type": "code",
   "execution_count": null,
   "id": "48585b4d",
   "metadata": {},
   "outputs": [
    {
     "data": {
      "text/plain": [
       "array([150.2])"
      ]
     },
     "execution_count": 29,
     "metadata": {},
     "output_type": "execute_result"
    }
   ],
   "source": [
    "\n",
    "y_pred = regressor.predict(X_test)\n",
    "y_pred"
   ]
  },
  {
   "cell_type": "code",
   "execution_count": null,
   "id": "4982decd",
   "metadata": {},
   "outputs": [],
   "source": [
    "X_train, X_test, y_train, y_test = train_test_split(X,Y, test_size=0.3,random_state=15) # 70% training and 30% test"
   ]
  },
  {
   "cell_type": "markdown",
   "id": "5c456f2e",
   "metadata": {},
   "source": [
    "# SVR"
   ]
  },
  {
   "cell_type": "code",
   "execution_count": null,
   "id": "2786d625",
   "metadata": {},
   "outputs": [
    {
     "data": {
      "text/plain": [
       "44.377719928714065"
      ]
     },
     "execution_count": 31,
     "metadata": {},
     "output_type": "execute_result"
    }
   ],
   "source": [
    "from sklearn.svm import SVR\n",
    "re = SVR(kernel = 'rbf')\n",
    "re.fit(X_train, y_train)\n",
    "y_pred = re.predict(X_test)\n",
    "svr= r2_score(y_test, y_pred)\n",
    "\n",
    "# Compute the percentage of variance explained by the model\n",
    "svr* 100"
   ]
  },
  {
   "cell_type": "code",
   "execution_count": null,
   "id": "b46f7053",
   "metadata": {},
   "outputs": [
    {
     "data": {
      "image/png": "[encoded data removed]",
      "text/plain": [
       "<Figure size 640x480 with 1 Axes>"
      ]
     },
     "metadata": {},
     "output_type": "display_data"
    }
   ],
   "source": [
    "import seaborn as sns\n",
    "import matplotlib.pyplot as plt\n",
    "objects = ('LR','DT','RF','SVR')\n",
    "y_pos = np.arange(len(objects))\n",
    "performance = [lr*100,dt*100,rf*100,svr*100]\n",
    "\n",
    "plt.bar(y_pos, performance, align='center', alpha=0.5)\n",
    "plt.xticks(y_pos, objects)\n",
    "plt.ylabel('Accuracy')\n",
    "plt.title('70 training - 30 testing')\n",
    "\n",
    "plt.show()"
   ]
  },
  {
   "cell_type": "markdown",
   "id": "6ae1d03a",
   "metadata": {},
   "source": [
    "# 60% training and 40% test"
   ]
  },
  {
   "cell_type": "code",
   "execution_count": null,
   "id": "6cace041",
   "metadata": {},
   "outputs": [],
   "source": [
    "X_train, X_test, y_train, y_test = train_test_split(X,Y, test_size=0.4,random_state=15) # 60% training and 40% test"
   ]
  },
  {
   "cell_type": "markdown",
   "id": "c6515f57",
   "metadata": {},
   "source": [
    "# DecisionTree"
   ]
  },
  {
   "cell_type": "code",
   "execution_count": null,
   "id": "a91b8dbe",
   "metadata": {},
   "outputs": [
    {
     "data": {
      "text/plain": [
       "75.82520316710887"
      ]
     },
     "execution_count": 34,
     "metadata": {},
     "output_type": "execute_result"
    }
   ],
   "source": [
    "clf = DecisionTreeRegressor(random_state = 0)\n",
    "clf.fit(X_train, y_train)\n",
    "y_pred = clf.predict(X_test)\n",
    "dt= r2_score(y_test, y_pred)\n",
    "dt*100"
   ]
  },
  {
   "cell_type": "markdown",
   "id": "cb2d4b27",
   "metadata": {},
   "source": [
    "# LinearRegression"
   ]
  },
  {
   "cell_type": "code",
   "execution_count": null,
   "id": "7133b8d8",
   "metadata": {},
   "outputs": [
    {
     "data": {
      "text/plain": [
       "87.907311527593"
      ]
     },
     "execution_count": 35,
     "metadata": {},
     "output_type": "execute_result"
    }
   ],
   "source": [
    "reg =  LinearRegression()\n",
    "reg.fit(X_train, y_train)\n",
    "y_pred = reg.predict(X_test)\n",
    "lr = r2_score(y_test, y_pred)\n",
    "lr*100"
   ]
  },
  {
   "cell_type": "markdown",
   "id": "41d30970",
   "metadata": {},
   "source": [
    "# RandomForest"
   ]
  },
  {
   "cell_type": "code",
   "execution_count": null,
   "id": "d9a4afa1",
   "metadata": {},
   "outputs": [
    {
     "data": {
      "text/plain": [
       "85.31072555205049"
      ]
     },
     "execution_count": 36,
     "metadata": {},
     "output_type": "execute_result"
    }
   ],
   "source": [
    "from sklearn.ensemble import RandomForestRegressor\n",
    "regressor = RandomForestRegressor(n_estimators = 10,random_state=0)\n",
    "regressor.fit(X_train, y_train)\n",
    "y_pred = regressor.predict(X_test)\n",
    "rf= r2_score(y_test, y_pred)\n",
    "\n",
    "# Compute the percentage of variance explained by the model\n",
    "rf* 100"
   ]
  },
  {
   "cell_type": "markdown",
   "id": "809e9cf5",
   "metadata": {},
   "source": [
    "# SVR"
   ]
  },
  {
   "cell_type": "code",
   "execution_count": null,
   "id": "cc3de2c7",
   "metadata": {},
   "outputs": [
    {
     "data": {
      "text/plain": [
       "40.521001371900546"
      ]
     },
     "execution_count": 37,
     "metadata": {},
     "output_type": "execute_result"
    }
   ],
   "source": [
    "from sklearn.svm import SVR\n",
    "re = SVR(kernel = 'rbf')\n",
    "re.fit(X_train, y_train)\n",
    "y_pred = re.predict(X_test)\n",
    "svr= r2_score(y_test, y_pred)\n",
    "\n",
    "# Compute the percentage of variance explained by the model\n",
    "svr* 100"
   ]
  },
  {
   "cell_type": "code",
   "execution_count": null,
   "id": "2aeb8a68",
   "metadata": {},
   "outputs": [
    {
     "data": {
      "image/png": "[encoded data removed]",
      "text/plain": [
       "<Figure size 640x480 with 1 Axes>"
      ]
     },
     "metadata": {},
     "output_type": "display_data"
    }
   ],
   "source": [
    "import seaborn as sns\n",
    "import matplotlib.pyplot as plt\n",
    "objects = ('LR','DT','RF','SVR')\n",
    "y_pos = np.arange(len(objects))\n",
    "performance = [lr*100,dt*100,rf*100,svr*100]\n",
    "\n",
    "plt.bar(y_pos, performance, align='center', alpha=1)\n",
    "plt.xticks(y_pos, objects)\n",
    "plt.ylabel('Accuracy')\n",
    "plt.title('60 training - 40 testing')\n",
    "\n",
    "plt.show()"
   ]
  }
 ],
 "metadata": {
  "kernelspec": {
   "display_name": "Python 3 (ipykernel)",
   "language": "python",
   "name": "python3"
  },
  "language_info": {
   "codemirror_mode": {
    "name": "ipython",
    "version": 3
   },
   "file_extension": ".py",
   "mimetype": "text/x-python",
   "name": "python",
   "nbconvert_exporter": "python",
   "pygments_lexer": "ipython3",
   "version": "3.10.5"
  }
 },
 "nbformat": 4,
 "nbformat_minor": 5
}
